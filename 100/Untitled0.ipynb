{
 "metadata": {
  "name": "",
  "signature": "sha256:e5eaee8d854405289aebc94b55542097769b851c823bbc5ba8b40c73865ef5d9"
 },
 "nbformat": 3,
 "nbformat_minor": 0,
 "worksheets": [
  {
   "cells": [
    {
     "cell_type": "code",
     "collapsed": false,
     "input": [
      "import matplotlib.image as imglib\n",
      "import numpy as np\n",
      "import os  "
     ],
     "language": "python",
     "metadata": {},
     "outputs": [],
     "prompt_number": 17
    },
    {
     "cell_type": "code",
     "collapsed": false,
     "input": [
      "pwd = \"/Users/fool/Downloads/train/0/100_/\"\n",
      "\n",
      "acc = np.empty([300, 240, 320, 4])\n",
      "index = 0\n",
      "for fn in os.listdir(pwd + 'photo'):\n",
      "    # img = imglib.imread(pwd + 'photo/' + fn)\n",
      "     # if os.path.isfile(fn):\n",
      "    photonum = os.path.splitext(fn)[0]\n",
      "    img = imglib.imread(pwd + 'photo/' + photonum + \".jpg\")\n",
      "    depth = imglib.imread(pwd + 'depth/' + photonum + \".png\")\n",
      "    acc[index] = np.dstack((img,depth))\n",
      "    index += 1"
     ],
     "language": "python",
     "metadata": {},
     "outputs": [],
     "prompt_number": 72
    },
    {
     "cell_type": "code",
     "collapsed": false,
     "input": [
      "np.save('merged_100.npy', acc)"
     ],
     "language": "python",
     "metadata": {},
     "outputs": [],
     "prompt_number": 84
    },
    {
     "cell_type": "code",
     "collapsed": false,
     "input": [
      "type(img[1][1][1])"
     ],
     "language": "python",
     "metadata": {},
     "outputs": [
      {
       "metadata": {},
       "output_type": "pyout",
       "prompt_number": 40,
       "text": [
        "numpy.uint8"
       ]
      }
     ],
     "prompt_number": 40
    },
    {
     "cell_type": "code",
     "collapsed": false,
     "input": [
      "len(depth[1])"
     ],
     "language": "python",
     "metadata": {},
     "outputs": [
      {
       "metadata": {},
       "output_type": "pyout",
       "prompt_number": 71,
       "text": [
        "320"
       ]
      }
     ],
     "prompt_number": 71
    },
    {
     "cell_type": "code",
     "collapsed": false,
     "input": [
      "a = np.arange(15).reshape(3, 5)\n",
      "b = np.arange(15., 20.).reshape(1, 5)\n",
      "c = a.flatten()\n",
      "np.append(c, b).reshape(4,5)"
     ],
     "language": "python",
     "metadata": {},
     "outputs": [
      {
       "metadata": {},
       "output_type": "pyout",
       "prompt_number": 41,
       "text": [
        "array([[  0.,   1.,   2.,   3.,   4.],\n",
        "       [  5.,   6.,   7.,   8.,   9.],\n",
        "       [ 10.,  11.,  12.,  13.,  14.],\n",
        "       [ 15.,  16.,  17.,  18.,  19.]])"
       ]
      }
     ],
     "prompt_number": 41
    },
    {
     "cell_type": "code",
     "collapsed": false,
     "input": [
      "a = img.reshape(240, 320, 3)\n",
      "b = depth.reshape(240, 320, 1)\n",
      "c = a\n",
      "# np.append(c,b).reshape(240,320,4)[0]\n",
      "np.dstack((img,depth))"
     ],
     "language": "python",
     "metadata": {},
     "outputs": [
      {
       "metadata": {},
       "output_type": "pyout",
       "prompt_number": 64,
       "text": [
        "array([[[  4.70000000e+01,   4.60000000e+01,   5.10000000e+01,\n",
        "           9.49111134e-02],\n",
        "        [  5.10000000e+01,   5.00000000e+01,   5.50000000e+01,\n",
        "           9.47737843e-02],\n",
        "        [  4.60000000e+01,   4.50000000e+01,   5.00000000e+01,\n",
        "           9.46517140e-02],\n",
        "        ..., \n",
        "        [  3.60000000e+01,   4.20000000e+01,   3.20000000e+01,\n",
        "           6.06393516e-02],\n",
        "        [  2.80000000e+01,   3.30000000e+01,   2.60000000e+01,\n",
        "           6.11581616e-02],\n",
        "        [  3.90000000e+01,   4.40000000e+01,   3.70000000e+01,\n",
        "           6.16769679e-02]],\n",
        "\n",
        "       [[  4.30000000e+01,   4.20000000e+01,   4.70000000e+01,\n",
        "           1.01487756e-01],\n",
        "        [  4.50000000e+01,   4.40000000e+01,   4.90000000e+01,\n",
        "           1.01350427e-01],\n",
        "        [  4.70000000e+01,   4.60000000e+01,   5.10000000e+01,\n",
        "           1.01213090e-01],\n",
        "        ..., \n",
        "        [  4.10000000e+01,   4.70000000e+01,   3.70000000e+01,\n",
        "           6.07309081e-02],\n",
        "        [  3.30000000e+01,   3.80000000e+01,   3.10000000e+01,\n",
        "           6.12344556e-02],\n",
        "        [  3.70000000e+01,   4.20000000e+01,   3.50000000e+01,\n",
        "           6.17685206e-02]],\n",
        "\n",
        "       [[  3.80000000e+01,   3.70000000e+01,   4.20000000e+01,\n",
        "           1.09071486e-01],\n",
        "        [  4.30000000e+01,   4.20000000e+01,   4.70000000e+01,\n",
        "           1.08918898e-01],\n",
        "        [  3.90000000e+01,   3.80000000e+01,   4.30000000e+01,\n",
        "           1.08781569e-01],\n",
        "        ..., \n",
        "        [  3.80000000e+01,   4.40000000e+01,   3.40000000e+01,\n",
        "           6.08072020e-02],\n",
        "        [  3.90000000e+01,   4.40000000e+01,   3.70000000e+01,\n",
        "           6.13260083e-02],\n",
        "        [  3.50000000e+01,   4.00000000e+01,   3.30000000e+01,\n",
        "           6.18448146e-02]],\n",
        "\n",
        "       ..., \n",
        "       [[  1.30000000e+02,   5.90000000e+01,   6.70000000e+01,\n",
        "           5.62294945e-02],\n",
        "        [  1.30000000e+02,   5.50000000e+01,   6.20000000e+01,\n",
        "           5.61837181e-02],\n",
        "        [  1.36000000e+02,   5.90000000e+01,   6.70000000e+01,\n",
        "           5.61379418e-02],\n",
        "        ..., \n",
        "        [  5.30000000e+01,   6.40000000e+01,   6.60000000e+01,\n",
        "           6.56443089e-02],\n",
        "        [  4.50000000e+01,   5.60000000e+01,   5.80000000e+01,\n",
        "           6.57358691e-02],\n",
        "        [  4.50000000e+01,   5.60000000e+01,   5.80000000e+01,\n",
        "           6.58274218e-02]],\n",
        "\n",
        "       [[  1.31000000e+02,   5.60000000e+01,   6.00000000e+01,\n",
        "           5.61074242e-02],\n",
        "        [  1.32000000e+02,   5.70000000e+01,   6.10000000e+01,\n",
        "           5.60616478e-02],\n",
        "        [  1.25000000e+02,   5.30000000e+01,   5.60000000e+01,\n",
        "           5.60311303e-02],\n",
        "        ..., \n",
        "        [  4.80000000e+01,   5.90000000e+01,   6.10000000e+01,\n",
        "           6.54154271e-02],\n",
        "        [  5.50000000e+01,   6.60000000e+01,   6.80000000e+01,\n",
        "           6.55069798e-02],\n",
        "        [  6.70000000e+01,   7.80000000e+01,   8.00000000e+01,\n",
        "           6.55985326e-02]],\n",
        "\n",
        "       [[  1.38000000e+02,   6.00000000e+01,   6.00000000e+01,\n",
        "           5.59853502e-02],\n",
        "        [  1.36000000e+02,   6.20000000e+01,   6.10000000e+01,\n",
        "           5.59548326e-02],\n",
        "        [  1.53000000e+02,   8.50000000e+01,   8.20000000e+01,\n",
        "           5.59243150e-02],\n",
        "        ..., \n",
        "        [  4.10000000e+01,   5.20000000e+01,   5.40000000e+01,\n",
        "           6.51865453e-02],\n",
        "        [  4.50000000e+01,   5.60000000e+01,   5.80000000e+01,\n",
        "           6.52780980e-02],\n",
        "        [  3.90000000e+01,   5.00000000e+01,   5.20000000e+01,\n",
        "           6.53696507e-02]]], dtype=float32)"
       ]
      }
     ],
     "prompt_number": 64
    },
    {
     "cell_type": "code",
     "collapsed": false,
     "input": [
      "c[1:10]"
     ],
     "language": "python",
     "metadata": {},
     "outputs": [
      {
       "metadata": {},
       "output_type": "pyout",
       "prompt_number": 50,
       "text": [
        "array([46, 51, 51, 50, 55, 46, 45, 50, 57], dtype=uint8)"
       ]
      }
     ],
     "prompt_number": 50
    },
    {
     "cell_type": "code",
     "collapsed": false,
     "input": [
      "b[1:10]"
     ],
     "language": "python",
     "metadata": {},
     "outputs": [
      {
       "metadata": {},
       "output_type": "pyout",
       "prompt_number": 53,
       "text": [
        "array([ 0.09477378,  0.09465171,  0.09451438,  0.09439231,  0.09425498,\n",
        "        0.09413291,  0.09401084,  0.0938735 ,  0.09375143], dtype=float32)"
       ]
      }
     ],
     "prompt_number": 53
    },
    {
     "cell_type": "code",
     "collapsed": false,
     "input": [],
     "language": "python",
     "metadata": {},
     "outputs": []
    }
   ],
   "metadata": {}
  }
 ]
}